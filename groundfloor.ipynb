{
 "cells": [
  {
   "cell_type": "code",
   "execution_count": 15,
   "metadata": {
    "collapsed": false
   },
   "outputs": [
    {
     "data": {
      "text/plain": [
       "<module 'utils' from '/home/shuang/project/gf/utils.py'>"
      ]
     },
     "execution_count": 15,
     "metadata": {},
     "output_type": "execute_result"
    }
   ],
   "source": [
    "from imp import reload\n",
    "import groundfloor as gf\n",
    "import pandas as pd\n",
    "import numpy as np\n",
    "import utils\n",
    "pd.set_option('display.max_columns', 500)\n",
    "reload(gf)\n",
    "reload(utils)"
   ]
  },
  {
   "cell_type": "code",
   "execution_count": 16,
   "metadata": {
    "collapsed": false
   },
   "outputs": [
    {
     "name": "stdout",
     "output_type": "stream",
     "text": [
      "10 of 165 loan crawled\n",
      "20 of 165 loan crawled\n",
      "30 of 165 loan crawled\n",
      "dates for https://www.groundfloor.us/investments/4107-belle-avenue-21215 unavailable\n",
      "40 of 165 loan crawled\n",
      "50 of 165 loan crawled\n",
      "60 of 165 loan crawled\n",
      "70 of 165 loan crawled\n",
      "80 of 165 loan crawled\n",
      "90 of 165 loan crawled\n",
      "100 of 165 loan crawled\n",
      "110 of 165 loan crawled\n",
      "120 of 165 loan crawled\n",
      "130 of 165 loan crawled\n",
      "140 of 165 loan crawled\n",
      "150 of 165 loan crawled\n",
      "160 of 165 loan crawled\n",
      "164 of 165 loan crawled, 1 failed\n"
     ]
    }
   ],
   "source": [
    "funded = gf.GoundFloor('https://www.groundfloor.us/education/funded')\n",
    "funded_df = funded.crawl()\n",
    "funded_df.to_csv('groundfloor_funded_20170102.csv')"
   ]
  },
  {
   "cell_type": "code",
   "execution_count": 20,
   "metadata": {
    "collapsed": true
   },
   "outputs": [],
   "source": [
    "funded_df = pd.read_csv('groundfloor_funded_20170102.csv', index_col = 0)"
   ]
  },
  {
   "cell_type": "code",
   "execution_count": 21,
   "metadata": {
    "collapsed": false
   },
   "outputs": [
    {
     "data": {
      "text/plain": [
       "Index(['address', 'amount', 'borrower', 'company', 'description', 'funded_on',\n",
       "       'grade', 'investers', 'link', 'loan_to_value', 'matures_on',\n",
       "       'parse_result', 'position', 'purpose', 'rate', 'repaid_on', 'start_on',\n",
       "       'state', 'status', 'term', 'title', 'total_amount', 'zipcode'],\n",
       "      dtype='object')"
      ]
     },
     "execution_count": 21,
     "metadata": {},
     "output_type": "execute_result"
    }
   ],
   "source": [
    "funded_df.columns"
   ]
  },
  {
   "cell_type": "code",
   "execution_count": 22,
   "metadata": {
    "collapsed": false
   },
   "outputs": [
    {
     "data": {
      "text/plain": [
       "Funded    86\n",
       "Repaid    64\n",
       "Late      14\n",
       "Name: status, dtype: int64"
      ]
     },
     "execution_count": 22,
     "metadata": {},
     "output_type": "execute_result"
    }
   ],
   "source": [
    "funded_df.status.value_counts()"
   ]
  },
  {
   "cell_type": "code",
   "execution_count": 28,
   "metadata": {
    "collapsed": false,
    "scrolled": true
   },
   "outputs": [
    {
     "data": {
      "text/plain": [
       "Shannon Ferguson         4\n",
       "Andy Luick               2\n",
       "William Jones            2\n",
       "Christian Chavez         1\n",
       "Anthony Ii               1\n",
       "Steven Hale              1\n",
       "Ric Gaballa              1\n",
       "Shirley A. Hicks         1\n",
       "Mary Thomas Goodridge    1\n",
       "Name: borrower, dtype: int64"
      ]
     },
     "execution_count": 28,
     "metadata": {},
     "output_type": "execute_result"
    }
   ],
   "source": [
    "funded_df[funded_df.status == 'Late'].borrower.value_counts()"
   ]
  },
  {
   "cell_type": "code",
   "execution_count": 31,
   "metadata": {
    "collapsed": false
   },
   "outputs": [],
   "source": [
    "%matplotlib inline\n",
    "\n",
    "import matplotlib\n",
    "import numpy as np\n",
    "import matplotlib.pyplot as plt"
   ]
  },
  {
   "cell_type": "code",
   "execution_count": 32,
   "metadata": {
    "collapsed": false,
    "scrolled": true
   },
   "outputs": [],
   "source": [
    "transtab = {ord('A'):'1', ord('B'):'2', ord('C'):'3', ord('D'):'4', ord('E'):'5', ord('F'):'6', ord('G'):'7'}\n",
    "funded_df['grade_int'] = funded_df['grade'].str.translate(transtab).astype(int)"
   ]
  },
  {
   "cell_type": "code",
   "execution_count": 33,
   "metadata": {
    "collapsed": false
   },
   "outputs": [
    {
     "data": {
      "image/png": "[encoded data removed]",
      "text/plain": [
       "<matplotlib.figure.Figure at 0x7f0a23a167b8>"
      ]
     },
     "metadata": {},
     "output_type": "display_data"
    }
   ],
   "source": [
    "late_index = funded_df.status == 'Late'\n",
    "repaid_index = funded_df.status == 'Repaid'\n",
    "plt_late, = plt.plot(funded_df[late_index].grade_int, funded_df[late_index].loan_to_value, 'bs', label=\"Late\")\n",
    "plt_repaid, = plt.plot(funded_df[repaid_index].grade_int, funded_df[repaid_index].loan_to_value, 'g^', label=\"Repaid\")\n",
    "plt.legend(handles=[plt_late, plt_repaid], loc=1)\n",
    "plt.axis([0, 8, 0, 1.1])\n",
    "plt.ylabel('loan to value')\n",
    "plt.xlabel('grade')\n",
    "plt.show()\n",
    "# conclusion: no obvious relationship between status and rate/loan_to_value"
   ]
  },
  {
   "cell_type": "code",
   "execution_count": 34,
   "metadata": {
    "collapsed": true
   },
   "outputs": [],
   "source": [
    "useful_index = funded_df.status != 'Funded'"
   ]
  },
  {
   "cell_type": "code",
   "execution_count": 36,
   "metadata": {
    "collapsed": false,
    "scrolled": true
   },
   "outputs": [
    {
     "data": {
      "text/plain": [
       "state  status\n",
       "AL     Repaid     1\n",
       "DC     Late       1\n",
       "       Repaid     1\n",
       "FL     Repaid     1\n",
       "GA     Late       4\n",
       "       Repaid    54\n",
       "IL     Late       2\n",
       "MD     Late       2\n",
       "NC     Repaid     1\n",
       "NH     Repaid     1\n",
       "NJ     Late       5\n",
       "OH     Repaid     2\n",
       "TN     Repaid     1\n",
       "TX     Repaid     1\n",
       "VA     Repaid     1\n",
       "dtype: int64"
      ]
     },
     "execution_count": 36,
     "metadata": {},
     "output_type": "execute_result"
    }
   ],
   "source": [
    "funded_df[useful_index][['state', 'status']].groupby(['state', 'status']).size()"
   ]
  }
 ],
 "metadata": {
  "kernelspec": {
   "display_name": "Python 3",
   "language": "python",
   "name": "python3"
  },
  "language_info": {
   "codemirror_mode": {
    "name": "ipython",
    "version": 3
   },
   "file_extension": ".py",
   "mimetype": "text/x-python",
   "name": "python",
   "nbconvert_exporter": "python",
   "pygments_lexer": "ipython3",
   "version": "3.4.3"
  }
 },
 "nbformat": 4,
 "nbformat_minor": 0
}
