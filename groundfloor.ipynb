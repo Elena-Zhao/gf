{
 "cells": [
  {
   "cell_type": "code",
   "execution_count": 145,
   "metadata": {
    "collapsed": true
   },
   "outputs": [],
   "source": [
    "from bs4 import BeautifulSoup\n",
    "from html.parser import HTMLParser  \n",
    "from urllib.request import urlopen  \n",
    "from urllib import parse\n",
    "import pandas as pd"
   ]
  },
  {
   "cell_type": "code",
   "execution_count": 153,
   "metadata": {
    "collapsed": false
   },
   "outputs": [],
   "source": [
    "class GoundFloor():\n",
    "    def __init__(self, link):\n",
    "        self.a = urlopen(link).read()\n",
    "        self.soup = BeautifulSoup(self.a)\n",
    "    \n",
    "    def crawl(self):\n",
    "        cards = soup.find_all(\"div\", class_=\"card\")\n",
    "\n",
    "        loans = []\n",
    "        for card in cards:\n",
    "            loan = {}\n",
    "            loan['name'] = card.find('div', class_=\"title\").get_text()\n",
    "            loan['type'] = card.find('div', class_='inner-arrow').get_text()[1:-2]\n",
    "            loan['grade'] = card.find('div', class_=\"triangle\").get_text()\n",
    "\n",
    "            numbers = card.find_all('div', class_ = 'number')\n",
    "            loan['rate'] = numbers[0].get_text()\n",
    "            loan['projected_term'] = numbers[1].get_text()\n",
    "            loan['loan_to_value'] = numbers[1].get_text()\n",
    "\n",
    "            loan['details'] = card.find('div', class_='large-link').find('a').attrs['href']\n",
    "            \n",
    "            detail_link = 'https://www.groundfloor.us' + loan['details']\n",
    "            details = self.crawl_details(detail_link)\n",
    "            loan.update(details)\n",
    "            loans.append(loan)\n",
    "            \n",
    "        return pd.DataFrame(loans)\n",
    "    \n",
    "    def crawl_details(self, detail_link):\n",
    "        detail_soup = BeautifulSoup(urlopen(detail_link).read())\n",
    "        \n",
    "        company = detail_soup.find_all('div', class_='col-xs-11 anchor-link')[0].get_text()[1:-1]\n",
    "        borrower = detail_soup.find_all('div', class_='col-xs-11 anchor-link')[1].get_text()[1:-1]\n",
    "        \n",
    "        loan_amount = detail_soup.find_all('div', class_='black-box')[3].get_text()\n",
    "        investers = detail_soup.find_all('div', class_='black-box')[4].get_text()\n",
    "        \n",
    "        purpose = detail_soup.find_all('div', class_='white-box')[0].get_text()[4:-4]\n",
    "        loan_position = detail_soup.find_all('div', class_='white-box')[1].get_text()\n",
    "        total_loan_amount = detail_soup.find_all('div', class_='white-box')[2].get_text()\n",
    "        loan_status = detail_soup.find_all('div', class_='white-box')[3].get_text()[1:-1]\n",
    "        \n",
    "        try:\n",
    "            start_on = detail_soup.find_all('div', class_='value-in-box col-xs-7')[0].get_text()\n",
    "            funded_on = detail_soup.find_all('div', class_='value-in-box col-xs-7')[1].get_text()\n",
    "            repaid_on = detail_soup.find_all('div', class_='value-in-box col-xs-7')[2].get_text()\n",
    "            matures_on = detail_soup.find_all('div', class_='value-in-box col-xs-7')[3].get_text()\n",
    "        except IndexError:\n",
    "            print('dates for {} unavailable:'.format(detail_link))\n",
    "            start_on = -1\n",
    "            funded_on = -1\n",
    "            repaid_on =-1 \n",
    "            matures_on = -1\n",
    "            \n",
    "        address = detail_soup.find(id = 'cucumber-investment').find('a').get_text()\n",
    "        description = detail_soup.find(id = 'cucumber-investment').find('div', class_ = \"col-xs-12\").get_text()[1:-1]\n",
    "        \n",
    "        return {'company': company, 'borrower': borrower, 'loan_amount': loan_amount, \\\n",
    " 'investers':investers, 'purpose':purpose,'loan_position': loan_position, 'investers':investers, \\\n",
    " 'purpose':purpose, 'loan_position':loan_position, 'total_loan_amount':total_loan_amount, 'loan_status': loan_status, \\\n",
    " 'start_on': start_on, 'funded_on': funded_on, 'repaid_on':repaid_on, 'matures_on': matures_on,\\\n",
    " 'address':address, 'description':description}"
   ]
  },
  {
   "cell_type": "markdown",
   "metadata": {},
   "source": [
    "## Funded"
   ]
  },
  {
   "cell_type": "code",
   "execution_count": 154,
   "metadata": {
    "collapsed": false
   },
   "outputs": [
    {
     "name": "stdout",
     "output_type": "stream",
     "text": [
      "dates for https://www.groundfloor.us/investments/4107-belle-avenue-21215 unavailable:\n"
     ]
    },
    {
     "name": "stderr",
     "output_type": "stream",
     "text": [
      "//anaconda/envs/py35/lib/python3.5/site-packages/bs4/__init__.py:166: UserWarning: No parser was explicitly specified, so I'm using the best available HTML parser for this system (\"lxml\"). This usually isn't a problem, but if you run this code on another system, or in a different virtual environment, it may use a different parser and behave differently.\n",
      "\n",
      "To get rid of this warning, change this:\n",
      "\n",
      " BeautifulSoup([your markup])\n",
      "\n",
      "to this:\n",
      "\n",
      " BeautifulSoup([your markup], \"lxml\")\n",
      "\n",
      "  markup_type=markup_type))\n"
     ]
    }
   ],
   "source": [
    "funded = GoundFloor('https://www.groundfloor.us/education/funded')\n",
    "funded_df = funded.crawl()"
   ]
  },
  {
   "cell_type": "code",
   "execution_count": 157,
   "metadata": {
    "collapsed": false
   },
   "outputs": [
    {
     "data": {
      "text/plain": [
       "Index(['address', 'borrower', 'company', 'description', 'details', 'funded_on',\n",
       "       'grade', 'investers', 'loan_amount', 'loan_position', 'loan_status',\n",
       "       'loan_to_value', 'matures_on', 'name', 'projected_term', 'purpose',\n",
       "       'rate', 'repaid_on', 'start_on', 'total_loan_amount', 'type'],\n",
       "      dtype='object')"
      ]
     },
     "execution_count": 157,
     "metadata": {},
     "output_type": "execute_result"
    }
   ],
   "source": [
    "funded_df.columns"
   ]
  },
  {
   "cell_type": "markdown",
   "metadata": {},
   "source": [
    "## Funding"
   ]
  },
  {
   "cell_type": "code",
   "execution_count": null,
   "metadata": {
    "collapsed": true
   },
   "outputs": [],
   "source": []
  }
 ],
 "metadata": {
  "kernelspec": {
   "display_name": "Python 3",
   "language": "python",
   "name": "python3"
  },
  "language_info": {
   "codemirror_mode": {
    "name": "ipython",
    "version": 3
   },
   "file_extension": ".py",
   "mimetype": "text/x-python",
   "name": "python",
   "nbconvert_exporter": "python",
   "pygments_lexer": "ipython3",
   "version": "3.5.1"
  }
 },
 "nbformat": 4,
 "nbformat_minor": 0
}
