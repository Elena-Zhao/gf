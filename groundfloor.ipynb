{
 "cells": [
  {
   "cell_type": "code",
   "execution_count": 30,
   "metadata": {
    "collapsed": false
   },
   "outputs": [
    {
     "data": {
      "text/plain": [
       "<module 'groundfloor' from '/home/shuang/project/gf/groundfloor.py'>"
      ]
     },
     "execution_count": 30,
     "metadata": {},
     "output_type": "execute_result"
    }
   ],
   "source": [
    "from imp import reload\n",
    "import groundfloor as gf\n",
    "reload(gf)"
   ]
  },
  {
   "cell_type": "code",
   "execution_count": 31,
   "metadata": {
    "collapsed": false
   },
   "outputs": [
    {
     "name": "stdout",
     "output_type": "stream",
     "text": [
      "Error in parse_date( )\n",
      "Error in parse_date( )\n",
      "Error in parse_date( )\n",
      "Error in parse_date( )\n",
      "Error in parse_date( )\n",
      "Error in parse_date( )\n",
      "Error in parse_date( )\n",
      "Error in parse_date( )\n",
      "Error in parse_date( )\n",
      "10 of 165 loan crawled\n",
      "Error in parse_date( )\n",
      "Error in parse_date( )\n",
      "Error in parse_date( )\n",
      "Error in parse_date( )\n",
      "Error in parse_date( )\n",
      "Error in parse_date( )\n",
      "Error in parse_date( )\n",
      "Error in parse_date( )\n",
      "Error in parse_date( )\n",
      "Error in parse_date( )\n",
      "20 of 165 loan crawled\n",
      "Error in parse_date( )\n",
      "Error in parse_date( )\n",
      "Error in parse_date( )\n",
      "Error in parse_date( )\n",
      "Error in parse_date( )\n",
      "Error in parse_date( )\n",
      "Error in parse_date(N/A)\n",
      "Error in parse_date( )\n",
      "Error in parse_date( )\n",
      "Error in parse_date( )\n",
      "Error in parse_date( )\n",
      "30 of 165 loan crawled\n",
      "Error in parse_date( )\n",
      "Error in parse_date( )\n",
      "Error in parse_date( )\n",
      "Error in parse_date( )\n",
      "Error in parse_date( )\n",
      "dates for https://www.groundfloor.us/investments/4107-belle-avenue-21215 unavailable\n",
      "Error in parse_date( )\n",
      "40 of 165 loan crawled\n",
      "Error in parse_date(N/A)\n",
      "50 of 165 loan crawled\n",
      "60 of 165 loan crawled\n",
      "70 of 165 loan crawled\n",
      "80 of 165 loan crawled\n",
      "90 of 165 loan crawled\n",
      "100 of 165 loan crawled\n",
      "Error in parse_date(N/A)\n",
      "110 of 165 loan crawled\n",
      "120 of 165 loan crawled\n",
      "130 of 165 loan crawled\n",
      "Error in parse_date(N/A)\n",
      "Error in parse_date(N/A)\n",
      "140 of 165 loan crawled\n",
      "Error in parse_date(N/A)\n",
      "Error in parse_date(N/A)\n",
      "150 of 165 loan crawled\n",
      "160 of 165 loan crawled\n",
      "164 of 165 loan crawled, 1 failed\n"
     ]
    }
   ],
   "source": [
    "funded = gf.GoundFloor('https://www.groundfloor.us/education/funded')\n",
    "funded_df = funded.crawl()"
   ]
  },
  {
   "cell_type": "code",
   "execution_count": 32,
   "metadata": {
    "collapsed": false
   },
   "outputs": [
    {
     "data": {
      "text/plain": [
       "Index(['address', 'borrower', 'company', 'description', 'funded_on', 'grade',\n",
       "       'investers', 'link', 'loan_amount', 'loan_position', 'loan_status',\n",
       "       'loan_to_value', 'matures_on', 'parse_result', 'projected_term',\n",
       "       'purpose', 'rate', 'repaid_on', 'start_on', 'title',\n",
       "       'total_loan_amount'],\n",
       "      dtype='object')"
      ]
     },
     "execution_count": 32,
     "metadata": {},
     "output_type": "execute_result"
    }
   ],
   "source": [
    "funded_df.columns"
   ]
  },
  {
   "cell_type": "code",
   "execution_count": 33,
   "metadata": {
    "collapsed": false,
    "scrolled": false
   },
   "outputs": [
    {
     "data": {
      "text/plain": [
       "9999-01-01 00:00:00    97\n",
       "2016-10-24 00:00:00     3\n",
       "2016-12-01 00:00:00     2\n",
       "2016-03-03 00:00:00     2\n",
       "2015-03-21 00:00:00     2\n",
       "2016-09-27 00:00:00     2\n",
       "2015-03-07 00:00:00     2\n",
       "2016-08-23 00:00:00     1\n",
       "2016-06-28 00:00:00     1\n",
       "2015-11-19 00:00:00     1\n",
       "2016-02-27 00:00:00     1\n",
       "2015-11-20 00:00:00     1\n",
       "2015-12-21 00:00:00     1\n",
       "2016-07-05 00:00:00     1\n",
       "2016-07-25 00:00:00     1\n",
       "2016-04-20 00:00:00     1\n",
       "2015-03-18 00:00:00     1\n",
       "2016-07-01 00:00:00     1\n",
       "2016-08-09 00:00:00     1\n",
       "2016-01-08 00:00:00     1\n",
       "2016-09-26 00:00:00     1\n",
       "2016-01-20 00:00:00     1\n",
       "2015-06-26 00:00:00     1\n",
       "2015-08-22 00:00:00     1\n",
       "2016-12-13 00:00:00     1\n",
       "2017-06-30 00:00:00     1\n",
       "2016-09-23 00:00:00     1\n",
       "2016-08-25 00:00:00     1\n",
       "2014-10-31 00:00:00     1\n",
       "2016-07-26 00:00:00     1\n",
       "                       ..\n",
       "2016-10-18 00:00:00     1\n",
       "2014-09-12 00:00:00     1\n",
       "2015-06-12 00:00:00     1\n",
       "2016-04-19 00:00:00     1\n",
       "2014-10-04 00:00:00     1\n",
       "2016-02-29 00:00:00     1\n",
       "2016-04-05 00:00:00     1\n",
       "2016-03-15 00:00:00     1\n",
       "2015-06-10 00:00:00     1\n",
       "2016-12-05 00:00:00     1\n",
       "2016-11-15 00:00:00     1\n",
       "2014-12-06 00:00:00     1\n",
       "2016-04-14 00:00:00     1\n",
       "2016-09-29 00:00:00     1\n",
       "2016-01-30 00:00:00     1\n",
       "2016-01-11 00:00:00     1\n",
       "2015-09-27 00:00:00     1\n",
       "2016-09-08 00:00:00     1\n",
       "2016-09-30 00:00:00     1\n",
       "2016-12-06 00:00:00     1\n",
       "2016-08-02 00:00:00     1\n",
       "2017-10-14 00:00:00     1\n",
       "2014-09-26 00:00:00     1\n",
       "2016-07-29 00:00:00     1\n",
       "2014-08-29 00:00:00     1\n",
       "2016-05-04 00:00:00     1\n",
       "2016-03-14 00:00:00     1\n",
       "2016-02-12 00:00:00     1\n",
       "2016-05-23 00:00:00     1\n",
       "2017-07-28 00:00:00     1\n",
       "Name: repaid_on, dtype: int64"
      ]
     },
     "execution_count": 33,
     "metadata": {},
     "output_type": "execute_result"
    }
   ],
   "source": [
    "funded_df.repaid_on.value_counts()"
   ]
  },
  {
   "cell_type": "code",
   "execution_count": 34,
   "metadata": {
    "collapsed": false
   },
   "outputs": [
    {
     "data": {
      "text/html": [
       "<div>\n",
       "<table border=\"1\" class=\"dataframe\">\n",
       "  <thead>\n",
       "    <tr style=\"text-align: right;\">\n",
       "      <th></th>\n",
       "      <th>borrower</th>\n",
       "      <th>company</th>\n",
       "      <th>loan_status</th>\n",
       "    </tr>\n",
       "  </thead>\n",
       "  <tbody>\n",
       "    <tr>\n",
       "      <th>121</th>\n",
       "      <td>John Mangham - principal</td>\n",
       "      <td>Borrower 405</td>\n",
       "      <td>Repaid</td>\n",
       "    </tr>\n",
       "    <tr>\n",
       "      <th>125</th>\n",
       "      <td>John Mangham - principal</td>\n",
       "      <td>Borrower 383</td>\n",
       "      <td>Repaid</td>\n",
       "    </tr>\n",
       "    <tr>\n",
       "      <th>138</th>\n",
       "      <td>John Mangham - principal</td>\n",
       "      <td>John Mangham</td>\n",
       "      <td>Repaid</td>\n",
       "    </tr>\n",
       "    <tr>\n",
       "      <th>155</th>\n",
       "      <td>John Mangham - principal</td>\n",
       "      <td>John Mangham</td>\n",
       "      <td>Repaid</td>\n",
       "    </tr>\n",
       "    <tr>\n",
       "      <th>161</th>\n",
       "      <td>John Mangham - principal</td>\n",
       "      <td>John Mangham</td>\n",
       "      <td>Repaid</td>\n",
       "    </tr>\n",
       "    <tr>\n",
       "      <th>163</th>\n",
       "      <td>John Mangham - principal</td>\n",
       "      <td>John Mangham</td>\n",
       "      <td>Repaid</td>\n",
       "    </tr>\n",
       "  </tbody>\n",
       "</table>\n",
       "</div>"
      ],
      "text/plain": [
       "                     borrower       company loan_status\n",
       "121  John Mangham - principal  Borrower 405      Repaid\n",
       "125  John Mangham - principal  Borrower 383      Repaid\n",
       "138  John Mangham - principal  John Mangham      Repaid\n",
       "155  John Mangham - principal  John Mangham      Repaid\n",
       "161  John Mangham - principal  John Mangham      Repaid\n",
       "163  John Mangham - principal  John Mangham      Repaid"
      ]
     },
     "execution_count": 34,
     "metadata": {},
     "output_type": "execute_result"
    }
   ],
   "source": [
    "funded_df[funded_df.borrower == 'John Mangham - principal'][['borrower', 'company', 'loan_status']]"
   ]
  }
 ],
 "metadata": {
  "kernelspec": {
   "display_name": "Python 3",
   "language": "python",
   "name": "python3"
  },
  "language_info": {
   "codemirror_mode": {
    "name": "ipython",
    "version": 3
   },
   "file_extension": ".py",
   "mimetype": "text/x-python",
   "name": "python",
   "nbconvert_exporter": "python",
   "pygments_lexer": "ipython3",
   "version": "3.4.3"
  }
 },
 "nbformat": 4,
 "nbformat_minor": 0
}
